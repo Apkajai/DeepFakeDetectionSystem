{
  "nbformat": 4,
  "nbformat_minor": 0,
  "metadata": {
    "colab": {
      "provenance": []
    },
    "kernelspec": {
      "name": "python3",
      "display_name": "Python 3"
    },
    "language_info": {
      "name": "python"
    }
  },
  "cells": [
    {
      "cell_type": "code",
      "source": [
        "zip_path = \"/content/drive/MyDrive/celebdf+ff++.zip\"  # Change this to your ZIP file path\n",
        "extract_path = \"/content/drive/MyDrive/Dataset\"  # Change this to your desired output folder"
      ],
      "metadata": {
        "id": "13pfSaCrKhnR"
      },
      "execution_count": null,
      "outputs": []
    },
    {
      "cell_type": "code",
      "source": [
        "import zipfile\n",
        "import os\n",
        "\n",
        "# Ensure output directory exists\n",
        "os.makedirs(extract_path, exist_ok=True)\n",
        "\n",
        "# Extract ZIP file\n",
        "with zipfile.ZipFile(zip_path, 'r') as zip_ref:\n",
        "    zip_ref.extractall(extract_path)\n",
        "\n",
        "print(\"Extraction Complete!\")\n"
      ],
      "metadata": {
        "id": "qFAKzQdDKmnH",
        "colab": {
          "base_uri": "https://localhost:8080/"
        },
        "outputId": "056d0fad-ffca-4e87-e885-f7ab95c26c5d"
      },
      "execution_count": null,
      "outputs": [
        {
          "output_type": "stream",
          "name": "stdout",
          "text": [
            "Extraction Complete!\n"
          ]
        }
      ]
    },
    {
      "cell_type": "code",
      "source": [
        "import os\n",
        "print(os.listdir(extract_path))"
      ],
      "metadata": {
        "id": "DLlJngxLKo6x",
        "colab": {
          "base_uri": "https://localhost:8080/"
        },
        "outputId": "4c9a0f59-a029-424a-a337-4a67349cd784"
      },
      "execution_count": null,
      "outputs": [
        {
          "output_type": "stream",
          "name": "stdout",
          "text": [
            "['Real', 'Fake', 'Celeb-DF-v2.zip', '1000_videos']\n"
          ]
        }
      ]
    }
  ]
}